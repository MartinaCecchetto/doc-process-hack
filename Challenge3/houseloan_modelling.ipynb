{
 "cells": [
  {
   "cell_type": "markdown",
   "metadata": {},
   "source": [
    "# Challenge 03: Data Modelling: From Retrieval to Upload"
   ]
  },
  {
   "cell_type": "markdown",
   "metadata": {},
   "source": [
    "In this step, we will structure the data retrieved from Azure Document Intelligence (ADI) into the right format to be read by our systems in subsequent steps. \n",
    "\n",
    "The data will be outputted from the ADI as a JSON file, and it is our role to process and organize it. Some of the data will be structured into tables, while other data will be formatted as text. This step ensures that the extracted information is organized in a meaningful way for further analysis and usage.\n",
    "\n",
    "As stated before, we need to make sure that our Function will know how to process:\n",
    "- **Loan Forms:** Extract relevant details such as borrower information, loan amounts, and terms.\n",
    "- **Loan Contract:** Identify and parse key contract elements like clauses, signatures, and dates.\n",
    "- **Pay Stubs:** Retrieve data such as employee details, earnings, deductions, and net pay.\n",
    "\n",
    "Not all customers will have provided all types of content, and during this Challenge we will be only be processing one file. We will combine in the next challenge the capabilities of a trigger, which will, at a time, also process one single document.\n",
    "\n",
    "Due to the nature of this challenge, we will separate this challenge in the 3 different types of documents."
   ]
  },
  {
   "cell_type": "markdown",
   "metadata": {},
   "source": [
    "## house loan"
   ]
  },
  {
   "cell_type": "code",
   "execution_count": 1,
   "metadata": {},
   "outputs": [],
   "source": [
    "import os\n",
    "from dotenv import find_dotenv, load_dotenv\n",
    "from azure.storage.blob import BlobServiceClient, generate_blob_sas, BlobSasPermissions\n",
    "from datetime import datetime, timedelta\n",
    "from azure.core.credentials import AzureKeyCredential\n",
    "from azure.ai.documentintelligence import DocumentIntelligenceClient\n",
    "from azure.ai.documentintelligence.models import AnalyzeResult, AnalyzeDocumentRequest\n",
    "from azure.ai.formrecognizer import DocumentAnalysisClient as OldDocumentIntelligenceClient, AnalyzeResult as OldAnalyzeResult\n",
    "import httpx\n",
    "import json"
   ]
  },
  {
   "cell_type": "code",
   "execution_count": 4,
   "metadata": {},
   "outputs": [
    {
     "name": "stdout",
     "output_type": "stream",
     "text": [
      "Container 'data' already exists.\n",
      "Uploaded houseloan/houseloan.pdf to blob storage.\n"
     ]
    }
   ],
   "source": [
    "from azure.core.exceptions import ResourceExistsError\n",
    "data_folder = \"data_houseloan\"\n",
    "container_name = \"data\"\n",
    "connection_string = os.getenv(\"STORAGE_CONNECTION_STRING\")\n",
    "\n",
    "# Ensure the connection string, data folder, and container name are not None\n",
    "if connection_string is None:\n",
    "    raise ValueError(\"The connection string environment variable is not set.\")\n",
    "if data_folder is None:\n",
    "    raise ValueError(\"The data folder environment variable is not set.\")\n",
    "if container_name is None:\n",
    "    raise ValueError(\"The container name environment variable is not set.\")\n",
    "\n",
    "# Ensure the data folder exists\n",
    "if not os.path.isdir(data_folder):\n",
    "    raise FileNotFoundError(f\"The specified data folder does not exist: {data_folder}\")\n",
    "\n",
    "# Create a BlobServiceClient\n",
    "blob_service_client = BlobServiceClient.from_connection_string(connection_string)\n",
    "\n",
    "# Check if the container exists, and create it if it does not\n",
    "container_client = blob_service_client.get_container_client(container_name)\n",
    "try:\n",
    "    container_client.create_container()\n",
    "    print(f\"Container '{container_name}' created.\")\n",
    "except ResourceExistsError:\n",
    "    print(f\"Container '{container_name}' already exists.\")\n",
    "\n",
    "# Upload files in the data folder and its subdirectories to the blob container\n",
    "for root, dirs, files in os.walk(data_folder):\n",
    "    for filename in files:\n",
    "        file_path = os.path.join(root, filename)\n",
    "        if os.path.isfile(file_path):\n",
    "            # Create a blob path that maintains the directory structure\n",
    "            blob_path = os.path.relpath(file_path, data_folder).replace(\"\\\\\", \"/\")\n",
    "            blob_client = blob_service_client.get_blob_client(container=container_name, blob=blob_path)\n",
    "            with open(file_path, \"rb\") as data:\n",
    "                blob_client.upload_blob(data, overwrite=True)\n",
    "            print(f\"Uploaded {blob_path} to blob storage.\")"
   ]
  },
  {
   "cell_type": "code",
   "execution_count": 5,
   "metadata": {},
   "outputs": [],
   "source": [
    "def generate_sas_url(blob_service_client, container_name, blob_name, expiry_hours=1):\n",
    "    \"\"\"\n",
    "    Generate a SAS URL for a blob in Azure Blob Storage.\n",
    "\n",
    "    :param blob_service_client: BlobServiceClient instance\n",
    "    :param container_name: Name of the container\n",
    "    :param blob_name: Name of the blob\n",
    "    :param expiry_hours: Expiry time in hours for the SAS token\n",
    "    :return: SAS URL for the blob\n",
    "    \"\"\"\n",
    "    sas_token = generate_blob_sas(\n",
    "        account_name=blob_service_client.account_name,\n",
    "        container_name=container_name,\n",
    "        blob_name=blob_name,\n",
    "        account_key=blob_service_client.credential.account_key,\n",
    "        permission=BlobSasPermissions(read=True),\n",
    "        expiry=datetime.utcnow() + timedelta(hours=expiry_hours)\n",
    "    )\n",
    "\n",
    "    sas_url = f\"https://{blob_service_client.account_name}.blob.core.windows.net/{container_name}/{blob_name}?{sas_token}\"\n",
    "    return sas_url"
   ]
  },
  {
   "cell_type": "code",
   "execution_count": 6,
   "metadata": {},
   "outputs": [],
   "source": [
    "def get_words(page, line):\n",
    "    result = []\n",
    "    for word in page.words:\n",
    "        if _in_span(word, line.spans):\n",
    "            result.append(word)\n",
    "    return result\n",
    "\n",
    "def _in_span(word, spans):\n",
    "    for span in spans:\n",
    "        if word.span.offset >= span.offset and (word.span.offset + word.span.length) <= (span.offset + span.length):\n",
    "            return True\n",
    "    return False"
   ]
  },
  {
   "cell_type": "code",
   "execution_count": 8,
   "metadata": {},
   "outputs": [],
   "source": [
    "load_dotenv()\n",
    "\n",
    "endpoint = os.getenv(\"DOC_AI_ENDPOINT\")\n",
    "api_key = os.getenv(\"DOC_AI_KEY\")\n",
    "   \n",
    "if not endpoint or not isinstance(endpoint, str):\n",
    "    raise ValueError(\"The DOCUMENTINTELLIGENCE_ENDPOINT environment variable is not set or is not a string.\")\n",
    "if not api_key or not isinstance(api_key, str):\n",
    "    raise ValueError(\"The DOCUMENTINTELLIGENCE_API_KEY environment variable is not set or is not a string.\")\n",
    "\n",
    "def analyze_layout(sas_url):\n",
    "    document_intelligence_client = OldDocumentIntelligenceClient(\n",
    "        endpoint=endpoint, credential=AzureKeyCredential(api_key)\n",
    "    )\n",
    "\n",
    "    poller = document_intelligence_client.begin_analyze_document(\n",
    "        \"prebuilt-layout\", httpx.Client().get(sas_url).read()\n",
    "    )\n",
    "\n",
    "    result: OldAnalyzeResult = poller.result()\n",
    "\n",
    "    analysis_result = {\n",
    "        \"handwritten\": any([style.is_handwritten for style in result.styles]) if result.styles else False,\n",
    "        \"pages\": [],\n",
    "        \"tables\": []\n",
    "    }\n",
    "\n",
    "    for page in result.pages:\n",
    "        page_info = {\n",
    "            \"page_number\": page.page_number,\n",
    "            \"width\": page.width,\n",
    "            \"height\": page.height,\n",
    "            \"unit\": page.unit,\n",
    "            \"lines\": [],\n",
    "            \"selection_marks\": []\n",
    "        }\n",
    "\n",
    "        if page.lines:\n",
    "            for line in page.lines:\n",
    "                line_info = {\n",
    "                    \"text\": line.content,\n",
    "                    \"polygon\": line.polygon,\n",
    "                    \"words\": [{\"content\": word.content, \"confidence\": word.confidence} for word in get_words(page, line)]\n",
    "                }\n",
    "                page_info[\"lines\"].append(line_info)\n",
    "\n",
    "        if page.selection_marks:\n",
    "            for selection_mark in page.selection_marks:\n",
    "                selection_mark_info = {\n",
    "                    \"state\": selection_mark.state,\n",
    "                    \"polygon\": selection_mark.polygon,\n",
    "                    \"confidence\": selection_mark.confidence\n",
    "                }\n",
    "                page_info[\"selection_marks\"].append(selection_mark_info)\n",
    "\n",
    "        analysis_result[\"pages\"].append(page_info)\n",
    "\n",
    "    if result.tables:\n",
    "        for table in result.tables:\n",
    "            table_info = {\n",
    "                \"row_count\": table.row_count,\n",
    "                \"column_count\": table.column_count,\n",
    "                \"bounding_regions\": [{\"page_number\": region.page_number, \"polygon\": region.polygon} for region in table.bounding_regions] if table.bounding_regions else [],\n",
    "                \"cells\": [{\"row_index\": cell.row_index, \"column_index\": cell.column_index, \"content\": cell.content, \"bounding_regions\": [{\"page_number\": region.page_number, \"polygon\": region.polygon} for region in cell.bounding_regions] if cell.bounding_regions else []} for cell in table.cells]\n",
    "            }\n",
    "            analysis_result[\"tables\"].append(table_info)\n",
    "\n",
    "    return analysis_result"
   ]
  },
  {
   "cell_type": "code",
   "execution_count": 9,
   "metadata": {},
   "outputs": [],
   "source": [
    "def save_analysis_results(blob_service_client, container_name, blob_name, analysis_results):\n",
    "    if analysis_results is None:\n",
    "        print(f\"No analysis results for {blob_name}. Skipping save.\")\n",
    "        return\n",
    "\n",
    "    # Define the name for the results file\n",
    "    results_blob_name = f\"{blob_name}_results.json\"\n",
    "\n",
    "    # Convert the analysis results to JSON\n",
    "    results_json = json.dumps(analysis_results, indent=4)\n",
    "\n",
    "    # Upload the results to the blob\n",
    "    blob_client = blob_service_client.get_blob_client(container=container_name, blob=results_blob_name)\n",
    "    blob_client.upload_blob(results_json, overwrite=True)\n",
    "\n",
    "    print(f\"Saved analysis results to {results_blob_name}\")"
   ]
  },
  {
   "cell_type": "code",
   "execution_count": null,
   "metadata": {},
   "outputs": [],
   "source": [
    "load_dotenv()\n",
    "\n",
    "if __name__ == \"__main__\":\n",
    "    # Retrieve the connection string and container name from the environment variables\n",
    "    connection_string = os.getenv('STORAGE_CONNECTION_STRING')\n",
    "    container_name = \"data\"\n",
    "\n",
    "    # Ensure the connection string is not None\n",
    "    if connection_string is None:\n",
    "        raise ValueError(\"The connection string environment variable is not set.\")\n",
    "\n",
    "    # Create a BlobServiceClient\n",
    "    blob_service_client = BlobServiceClient.from_connection_string(connection_string)\n",
    "\n",
    "    # List all blobs in the container\n",
    "    blob_list = blob_service_client.get_container_client(container_name).list_blobs()\n",
    "\n",
    "    # Iterate over each blob\n",
    "    for blob in blob_list:\n",
    "        blob_name = blob.name\n",
    "        print(f\"Processing blob: {blob_name}\")\n",
    "\n",
    "        # Ensure the file format is supported\n",
    "        supported_formats = ['.pdf', '.jpeg', '.jpg', '.png', '.tiff']\n",
    "        if not any(blob_name.lower().endswith(ext) for ext in supported_formats):\n",
    "            print(f\"Skipping unsupported file format: {blob_name}\")\n",
    "            continue\n",
    "\n",
    "        # Generate the SAS URL\n",
    "        sas_url = generate_sas_url(blob_service_client, container_name, blob_name)\n",
    "        print(f\"Generated SAS URL: {sas_url}\")\n",
    "\n",
    "        # Call the analyze_layout function with the SAS URL\n",
    "        analysis_results = analyze_layout(sas_url)\n",
    "\n",
    "        # Save the analysis results\n",
    "        save_analysis_results(blob_service_client, container_name, blob_name, analysis_results)"
   ]
  },
  {
   "cell_type": "markdown",
   "metadata": {},
   "source": [
    "START ANALYSIS FROM JSON"
   ]
  },
  {
   "cell_type": "code",
   "execution_count": 10,
   "metadata": {},
   "outputs": [],
   "source": [
    "import os\n",
    "import json\n",
    "import pandas as pd\n",
    "from azure.storage.blob import BlobServiceClient\n",
    "from dotenv import load_dotenv\n",
    "import re\n",
    "# Load environment variables from .env file\n",
    "load_dotenv()\n",
    "\n",
    "def read_json_files_from_blob(folder_path):\n",
    "    # Retrieve the connection string from the environment variables\n",
    "    connection_string = os.getenv('STORAGE_CONNECTION_STRING')\n",
    "\n",
    "    # Ensure the connection string is not None\n",
    "    if connection_string is None:\n",
    "        raise ValueError(\"The connection string environment variable is not set.\")\n",
    "\n",
    "    # Create a BlobServiceClient\n",
    "    blob_service_client = BlobServiceClient.from_connection_string(connection_string)\n",
    "\n",
    "    # Get the container client\n",
    "    container_client = blob_service_client.get_container_client(\"data\")\n",
    "\n",
    "    # List all blobs in the specified folder\n",
    "    blob_list = container_client.list_blobs(name_starts_with=folder_path)\n",
    "\n",
    "    # Filter out JSON files and read their contents\n",
    "    for blob in blob_list:\n",
    "        if blob.name.endswith('.json'):\n",
    "            blob_client = container_client.get_blob_client(blob.name)\n",
    "            blob_data = blob_client.download_blob().readall()\n",
    "            data = json.loads(blob_data)\n",
    "            return data "
   ]
  },
  {
   "cell_type": "code",
   "execution_count": 12,
   "metadata": {},
   "outputs": [],
   "source": [
    "houseloan = read_json_files_from_blob(\"houseloan\") ## RETIRAR PARA ELES PERCEBEREM OQ TAO A FAZE"
   ]
  },
  {
   "cell_type": "code",
   "execution_count": 24,
   "metadata": {},
   "outputs": [
    {
     "data": {
      "text/plain": [
       "<function dict.keys>"
      ]
     },
     "execution_count": 24,
     "metadata": {},
     "output_type": "execute_result"
    }
   ],
   "source": [
    "houseloan.keys"
   ]
  },
  {
   "cell_type": "code",
   "execution_count": 42,
   "metadata": {},
   "outputs": [],
   "source": [
    "def clean_json_data(json_data):\n",
    "    # Extract relevant text content from the JSON\n",
    "    content = []\n",
    "\n",
    "    # Extract text from paragraphs\n",
    "    paragraphs = json_data.get(\"paragraphs\", [])\n",
    "    for paragraph in paragraphs:\n",
    "        content.append(paragraph.get(\"content\", \"\").strip())\n",
    "\n",
    "    # Extract text from pages and lines\n",
    "    pages = json_data.get(\"pages\", [])\n",
    "    for page in pages:\n",
    "        for line in page.get(\"lines\", []):\n",
    "            content.append(line.get(\"content\", \"\").strip())\n",
    "\n",
    "    # Join all text content into a single string with spaces between components\n",
    "    plain_text_content = \" \".join(content)\n",
    "    print(plain_text_content)\n",
    "   \n",
    "    return plain_text_content"
   ]
  },
  {
   "cell_type": "code",
   "execution_count": null,
   "metadata": {},
   "outputs": [],
   "source": [
    "houseloan[\"analyzeResult\"][\"paragraphs\"]"
   ]
  },
  {
   "cell_type": "code",
   "execution_count": 43,
   "metadata": {},
   "outputs": [
    {
     "name": "stdout",
     "output_type": "stream",
     "text": [
      "Contoso Bank - House Loan Terms and Conditions 1. Introduction These terms and conditions govern the house loans provided by Contoso Bank (referred to as \"the Bank\") to customers (referred to as \"Borrower\"). By applying for and accepting a house loan, the Borrower agrees to the terms and conditions outlined herein. 2. Loan Amount and Purpose · The loan is granted exclusively for the purpose of purchasing a residential property, refinancing an existing mortgage, or for approved home improvement projects. . The maximum loan amount will be determined by the Bank based on the Borrower's financial profile, creditworthiness, and property value. 3. Interest Rates · Fixed Rate: The interest rate remains constant throughout the loan term. · Variable Rate: The interest rate may fluctuate based on market conditions and will be tied to a publicly available index. Changes in the interest rate will affect the Borrower's monthly payments. · Interest rates are disclosed at the time of loan approval and are subject to change based on prevailing economic conditions until the loan agreement is signed. 4. Loan Tenure · The loan term may range from 5 to 30 years, depending on the loan product and the Borrower's preference. · Early repayment of the loan is allowed, but prepayment penalties may apply based on the loan terms. 5. Monthly Repayments · Monthly repayments consist of both principal and interest, calculated over the loan term. · Payments are due on the specified date each month. If the due date falls on a weekend or public holiday, payment must be made on the next business day. · The Borrower is responsible for ensuring that sufficient funds are available in their designated account for automatic deductions. 6. Late Payments · A late fee of 1.5% of the overdue amount will be charged if the monthly repayment is not received by the due date. . If payments are consistently late or missed, the Bank reserves the right to initiate legal action and may foreclose on the property. 7. Loan Security . The property being financed will serve as collateral for the loan. . The Borrower must maintain the property in good condition and not transfer or sell the property without the Bank's consent. · Adequate homeowner's insurance is required to protect the property against loss or damage. The Bank must be listed as a beneficiary on the insurance policy. 8. Loan Processing Fees · An origination fee of up to 1% of the loan amount may be charged at the time of loan approval. · Additional fees, such as property valuation fees, legal fees, and administrative fees, may also apply. 9. Default and Foreclosure · The Borrower is considered in default if: o Three or more consecutive monthly payments are missed. o There is a significant breach of any of the loan terms. :unselected: . In the event of default, the Bank reserves the right to demand the immediate repayment of the outstanding loan balance, including interest and fees. · Foreclosure proceedings may be initiated, and the property may be sold to recover the outstanding loan amount. 10. Early Repayment and Prepayment Penalties · The Borrower may repay the loan before the scheduled term without penalty for certain loan products. However, for fixed-rate loans, an early repayment fee may apply. · The exact terms regarding early repayment will be disclosed in the loan agreement. 11. Changes to Terms and Conditions · The Bank reserves the right to modify these terms and conditions. The Borrower will be notified of any changes in writing or via email. · Any changes in interest rates or fees will apply to new loans or renewals. Existing loans will remain subject to the original terms unless otherwise agreed. 12. Insurance Requirements · The Borrower must obtain and maintain adequate homeowner's insurance for the entire term of the loan. . The Bank may request proof of insurance at any time during the loan period. Failure to maintain insurance may result in the Bank purchasing insurance on behalf of the Borrower and charging the Borrower for this cost. 13. Loan Cancellation · The Borrower has the right to cancel the loan application within 7 days of signing the agreement without penalty. · Cancellation after this period may incur fees as determined by the Bank. 14. Dispute Resolution · Any disputes arising from this loan agreement must be resolved through negotiation in the first instance. . If the dispute cannot be resolved, it will be referred to arbitration in accordance with the laws of the jurisdiction in which the property is located. 15. Governing Law . These terms and conditions are governed by the laws of the jurisdiction in which the property is located. · Any legal proceedings regarding this loan must be brought within the jurisdiction of that location. 16. Contact Information For any questions or clarifications regarding the house loan, Borrowers can contact: · Customer Service: +1 (800) 123-4567 · Email: home.loans@contosobank.com · Address: Contoso Bank, 123 Main Street, City, Country Contoso Bank - House Loan Terms and Conditions 1. Introduction These terms and conditions govern the house loans provided by Contoso Bank (referred to as \"the Bank\") to customers (referred to as \"Borrower\"). By applying for and accepting a house loan, the Borrower agrees to the terms and conditions outlined herein. 2. Loan Amount and Purpose · The loan is granted exclusively for the purpose of purchasing a residential property, refinancing an existing mortgage, or for approved home improvement projects. . The maximum loan amount will be determined by the Bank based on the Borrower's financial profile, creditworthiness, and property value. 3. Interest Rates · Fixed Rate: The interest rate remains constant throughout the loan term. · Variable Rate: The interest rate may fluctuate based on market conditions and will be tied to a publicly available index. Changes in the interest rate will affect the Borrower's monthly payments. · Interest rates are disclosed at the time of loan approval and are subject to change based on prevailing economic conditions until the loan agreement is signed. 4. Loan Tenure · The loan term may range from 5 to 30 years, depending on the loan product and the Borrower's preference. · Early repayment of the loan is allowed, but prepayment penalties may apply based on the loan terms. 5. Monthly Repayments · Monthly repayments consist of both principal and interest, calculated over the loan term. · Payments are due on the specified date each month. If the due date falls on a weekend or public holiday, payment must be made on the next business day. · The Borrower is responsible for ensuring that sufficient funds are available in their designated account for automatic deductions. 6. Late Payments · A late fee of 1.5% of the overdue amount will be charged if the monthly repayment is not received by the due date. . If payments are consistently late or missed, the Bank reserves the right to initiate legal action and may foreclose on the property. 7. Loan Security . The property being financed will serve as collateral for the loan. . The Borrower must maintain the property in good condition and not transfer or sell the property without the Bank's consent. · Adequate homeowner's insurance is required to protect the property against loss or damage. The Bank must be listed as a beneficiary on the insurance policy. 8. Loan Processing Fees · An origination fee of up to 1% of the loan amount may be charged at the time of loan approval. · Additional fees, such as property valuation fees, legal fees, and administrative fees, may also apply. 9. Default and Foreclosure · The Borrower is considered in default if: o Three or more consecutive monthly payments are missed. o There is a significant breach of any of the loan terms. . In the event of default, the Bank reserves the right to demand the immediate repayment of the outstanding loan balance, including interest and fees. · Foreclosure proceedings may be initiated, and the property may be sold to recover the outstanding loan amount. 10. Early Repayment and Prepayment Penalties · The Borrower may repay the loan before the scheduled term without penalty for certain loan products. However, for fixed-rate loans, an early repayment fee may apply. · The exact terms regarding early repayment will be disclosed in the loan agreement. 11. Changes to Terms and Conditions · The Bank reserves the right to modify these terms and conditions. The Borrower will be notified of any changes in writing or via email. · Any changes in interest rates or fees will apply to new loans or renewals. Existing loans will remain subject to the original terms unless otherwise agreed. 12. Insurance Requirements · The Borrower must obtain and maintain adequate homeowner's insurance for the entire term of the loan. . The Bank may request proof of insurance at any time during the loan period. Failure to maintain insurance may result in the Bank purchasing insurance on behalf of the Borrower and charging the Borrower for this cost. 13. Loan Cancellation · The Borrower has the right to cancel the loan application within 7 days of signing the agreement without penalty. · Cancellation after this period may incur fees as determined by the Bank. 14. Dispute Resolution · Any disputes arising from this loan agreement must be resolved through negotiation in the first instance. . If the dispute cannot be resolved, it will be referred to arbitration in accordance with the laws of the jurisdiction in which the property is located. 15. Governing Law . These terms and conditions are governed by the laws of the jurisdiction in which the property is located. · Any legal proceedings regarding this loan must be brought within the jurisdiction of that location. 16. Contact Information For any questions or clarifications regarding the house loan, Borrowers can contact: · Customer Service: +1 (800) 123-4567 · Email: home.loans@contosobank.com · Address: Contoso Bank, 123 Main Street, City, Country\n"
     ]
    },
    {
     "data": {
      "text/plain": [
       "'Contoso Bank - House Loan Terms and Conditions 1. Introduction These terms and conditions govern the house loans provided by Contoso Bank (referred to as \"the Bank\") to customers (referred to as \"Borrower\"). By applying for and accepting a house loan, the Borrower agrees to the terms and conditions outlined herein. 2. Loan Amount and Purpose · The loan is granted exclusively for the purpose of purchasing a residential property, refinancing an existing mortgage, or for approved home improvement projects. . The maximum loan amount will be determined by the Bank based on the Borrower\\'s financial profile, creditworthiness, and property value. 3. Interest Rates · Fixed Rate: The interest rate remains constant throughout the loan term. · Variable Rate: The interest rate may fluctuate based on market conditions and will be tied to a publicly available index. Changes in the interest rate will affect the Borrower\\'s monthly payments. · Interest rates are disclosed at the time of loan approval and are subject to change based on prevailing economic conditions until the loan agreement is signed. 4. Loan Tenure · The loan term may range from 5 to 30 years, depending on the loan product and the Borrower\\'s preference. · Early repayment of the loan is allowed, but prepayment penalties may apply based on the loan terms. 5. Monthly Repayments · Monthly repayments consist of both principal and interest, calculated over the loan term. · Payments are due on the specified date each month. If the due date falls on a weekend or public holiday, payment must be made on the next business day. · The Borrower is responsible for ensuring that sufficient funds are available in their designated account for automatic deductions. 6. Late Payments · A late fee of 1.5% of the overdue amount will be charged if the monthly repayment is not received by the due date. . If payments are consistently late or missed, the Bank reserves the right to initiate legal action and may foreclose on the property. 7. Loan Security . The property being financed will serve as collateral for the loan. . The Borrower must maintain the property in good condition and not transfer or sell the property without the Bank\\'s consent. · Adequate homeowner\\'s insurance is required to protect the property against loss or damage. The Bank must be listed as a beneficiary on the insurance policy. 8. Loan Processing Fees · An origination fee of up to 1% of the loan amount may be charged at the time of loan approval. · Additional fees, such as property valuation fees, legal fees, and administrative fees, may also apply. 9. Default and Foreclosure · The Borrower is considered in default if: o Three or more consecutive monthly payments are missed. o There is a significant breach of any of the loan terms. :unselected: . In the event of default, the Bank reserves the right to demand the immediate repayment of the outstanding loan balance, including interest and fees. · Foreclosure proceedings may be initiated, and the property may be sold to recover the outstanding loan amount. 10. Early Repayment and Prepayment Penalties · The Borrower may repay the loan before the scheduled term without penalty for certain loan products. However, for fixed-rate loans, an early repayment fee may apply. · The exact terms regarding early repayment will be disclosed in the loan agreement. 11. Changes to Terms and Conditions · The Bank reserves the right to modify these terms and conditions. The Borrower will be notified of any changes in writing or via email. · Any changes in interest rates or fees will apply to new loans or renewals. Existing loans will remain subject to the original terms unless otherwise agreed. 12. Insurance Requirements · The Borrower must obtain and maintain adequate homeowner\\'s insurance for the entire term of the loan. . The Bank may request proof of insurance at any time during the loan period. Failure to maintain insurance may result in the Bank purchasing insurance on behalf of the Borrower and charging the Borrower for this cost. 13. Loan Cancellation · The Borrower has the right to cancel the loan application within 7 days of signing the agreement without penalty. · Cancellation after this period may incur fees as determined by the Bank. 14. Dispute Resolution · Any disputes arising from this loan agreement must be resolved through negotiation in the first instance. . If the dispute cannot be resolved, it will be referred to arbitration in accordance with the laws of the jurisdiction in which the property is located. 15. Governing Law . These terms and conditions are governed by the laws of the jurisdiction in which the property is located. · Any legal proceedings regarding this loan must be brought within the jurisdiction of that location. 16. Contact Information For any questions or clarifications regarding the house loan, Borrowers can contact: · Customer Service: +1 (800) 123-4567 · Email: home.loans@contosobank.com · Address: Contoso Bank, 123 Main Street, City, Country Contoso Bank - House Loan Terms and Conditions 1. Introduction These terms and conditions govern the house loans provided by Contoso Bank (referred to as \"the Bank\") to customers (referred to as \"Borrower\"). By applying for and accepting a house loan, the Borrower agrees to the terms and conditions outlined herein. 2. Loan Amount and Purpose · The loan is granted exclusively for the purpose of purchasing a residential property, refinancing an existing mortgage, or for approved home improvement projects. . The maximum loan amount will be determined by the Bank based on the Borrower\\'s financial profile, creditworthiness, and property value. 3. Interest Rates · Fixed Rate: The interest rate remains constant throughout the loan term. · Variable Rate: The interest rate may fluctuate based on market conditions and will be tied to a publicly available index. Changes in the interest rate will affect the Borrower\\'s monthly payments. · Interest rates are disclosed at the time of loan approval and are subject to change based on prevailing economic conditions until the loan agreement is signed. 4. Loan Tenure · The loan term may range from 5 to 30 years, depending on the loan product and the Borrower\\'s preference. · Early repayment of the loan is allowed, but prepayment penalties may apply based on the loan terms. 5. Monthly Repayments · Monthly repayments consist of both principal and interest, calculated over the loan term. · Payments are due on the specified date each month. If the due date falls on a weekend or public holiday, payment must be made on the next business day. · The Borrower is responsible for ensuring that sufficient funds are available in their designated account for automatic deductions. 6. Late Payments · A late fee of 1.5% of the overdue amount will be charged if the monthly repayment is not received by the due date. . If payments are consistently late or missed, the Bank reserves the right to initiate legal action and may foreclose on the property. 7. Loan Security . The property being financed will serve as collateral for the loan. . The Borrower must maintain the property in good condition and not transfer or sell the property without the Bank\\'s consent. · Adequate homeowner\\'s insurance is required to protect the property against loss or damage. The Bank must be listed as a beneficiary on the insurance policy. 8. Loan Processing Fees · An origination fee of up to 1% of the loan amount may be charged at the time of loan approval. · Additional fees, such as property valuation fees, legal fees, and administrative fees, may also apply. 9. Default and Foreclosure · The Borrower is considered in default if: o Three or more consecutive monthly payments are missed. o There is a significant breach of any of the loan terms. . In the event of default, the Bank reserves the right to demand the immediate repayment of the outstanding loan balance, including interest and fees. · Foreclosure proceedings may be initiated, and the property may be sold to recover the outstanding loan amount. 10. Early Repayment and Prepayment Penalties · The Borrower may repay the loan before the scheduled term without penalty for certain loan products. However, for fixed-rate loans, an early repayment fee may apply. · The exact terms regarding early repayment will be disclosed in the loan agreement. 11. Changes to Terms and Conditions · The Bank reserves the right to modify these terms and conditions. The Borrower will be notified of any changes in writing or via email. · Any changes in interest rates or fees will apply to new loans or renewals. Existing loans will remain subject to the original terms unless otherwise agreed. 12. Insurance Requirements · The Borrower must obtain and maintain adequate homeowner\\'s insurance for the entire term of the loan. . The Bank may request proof of insurance at any time during the loan period. Failure to maintain insurance may result in the Bank purchasing insurance on behalf of the Borrower and charging the Borrower for this cost. 13. Loan Cancellation · The Borrower has the right to cancel the loan application within 7 days of signing the agreement without penalty. · Cancellation after this period may incur fees as determined by the Bank. 14. Dispute Resolution · Any disputes arising from this loan agreement must be resolved through negotiation in the first instance. . If the dispute cannot be resolved, it will be referred to arbitration in accordance with the laws of the jurisdiction in which the property is located. 15. Governing Law . These terms and conditions are governed by the laws of the jurisdiction in which the property is located. · Any legal proceedings regarding this loan must be brought within the jurisdiction of that location. 16. Contact Information For any questions or clarifications regarding the house loan, Borrowers can contact: · Customer Service: +1 (800) 123-4567 · Email: home.loans@contosobank.com · Address: Contoso Bank, 123 Main Street, City, Country'"
      ]
     },
     "execution_count": 43,
     "metadata": {},
     "output_type": "execute_result"
    }
   ],
   "source": [
    "houseloan_unstructured = clean_json_data(houseloan[\"analyzeResult\"])\n",
    "houseloan_unstructured"
   ]
  },
  {
   "cell_type": "code",
   "execution_count": 60,
   "metadata": {},
   "outputs": [],
   "source": [
    "from pydantic import BaseModel\n",
    "from openai import AzureOpenAI\n",
    "\n",
    "client = AzureOpenAI(\n",
    "  azure_endpoint = os.getenv(\"AZURE_OPENAI_ENDPOINT\"),\n",
    "  api_key=os.getenv(\"AZURE_OPENAI_KEY\"),\n",
    "  api_version= \"2024-08-01-preview\"\n",
    ")\n",
    "\n",
    "class Houseloan(BaseModel):\n",
    "    introduction: str\n",
    "    loan_amount_and_purpose: str\n",
    "    interest_rates: str\n",
    "    loan_tenure: str\n",
    "    late_payments: str\n",
    "\n",
    "completion = client.beta.chat.completions.parse(\n",
    "    model=\"gpt-4o\", # replace with the model deployment name of your gpt-4o 2024-08-06 deployment\n",
    "    messages=[\n",
    "        {\"role\": \"system\", \"content\": \"Extract the information about this textual document with sections and content.\"},\n",
    "        {\"role\": \"user\", \"content\": houseloan_unstructured},\n",
    "    ],\n",
    "    response_format=Houseloan,\n",
    ")\n",
    "\n",
    "finaljsonstr = completion.model_dump_json(indent=2)"
   ]
  },
  {
   "cell_type": "code",
   "execution_count": 66,
   "metadata": {},
   "outputs": [
    {
     "data": {
      "text/plain": [
       "'{\\n  \"id\": \"chatcmpl-Ae0F60HU9CbGUoLt1frJgwSy4XDym\",\\n  \"choices\": [\\n    {\\n      \"finish_reason\": \"stop\",\\n      \"index\": 0,\\n      \"logprobs\": null,\\n      \"message\": {\\n        \"content\": \"{\\\\\"introduction\\\\\":\\\\\"These terms and conditions govern the house loans provided by Contoso Bank to customers. By applying for and accepting a house loan, the Borrower agrees to the terms and conditions outlined herein.\\\\\",\\\\\"loan_amount_and_purpose\\\\\":\\\\\"The loan is granted exclusively for purchasing a residential property, refinancing an existing mortgage, or for approved home improvement projects. The maximum loan amount is determined by the Bank based on the Borrower\\'s financial profile, creditworthiness, and property value.\\\\\",\\\\\"interest_rates\\\\\":\\\\\"There are two types: Fixed Rate, which remains constant throughout the loan term; and Variable Rate, which may fluctuate based on market conditions and is tied to a publicly available index. Interest rates are disclosed at the time of loan approval and may change based on prevailing conditions until the loan agreement is signed.\\\\\",\\\\\"loan_tenure\\\\\":\\\\\"Loan terms range from 5 to 30 years, depending on the loan product and Borrower\\'s preference. Early repayment is allowed but may incur prepayment penalties depending on the loan terms.\\\\\",\\\\\"late_payments\\\\\":\\\\\"A late fee of 1.5% of the overdue amount is charged if the monthly repayment is not received by the due date. Consistently late or missed payments can lead the Bank to initiate legal action, possibly foreclosing on the property.\\\\\"}\",\\n        \"refusal\": null,\\n        \"role\": \"assistant\",\\n        \"audio\": null,\\n        \"function_call\": null,\\n        \"tool_calls\": [],\\n        \"parsed\": {\\n          \"introduction\": \"These terms and conditions govern the house loans provided by Contoso Bank to customers. By applying for and accepting a house loan, the Borrower agrees to the terms and conditions outlined herein.\",\\n          \"loan_amount_and_purpose\": \"The loan is granted exclusively for purchasing a residential property, refinancing an existing mortgage, or for approved home improvement projects. The maximum loan amount is determined by the Bank based on the Borrower\\'s financial profile, creditworthiness, and property value.\",\\n          \"interest_rates\": \"There are two types: Fixed Rate, which remains constant throughout the loan term; and Variable Rate, which may fluctuate based on market conditions and is tied to a publicly available index. Interest rates are disclosed at the time of loan approval and may change based on prevailing conditions until the loan agreement is signed.\",\\n          \"loan_tenure\": \"Loan terms range from 5 to 30 years, depending on the loan product and Borrower\\'s preference. Early repayment is allowed but may incur prepayment penalties depending on the loan terms.\",\\n          \"late_payments\": \"A late fee of 1.5% of the overdue amount is charged if the monthly repayment is not received by the due date. Consistently late or missed payments can lead the Bank to initiate legal action, possibly foreclosing on the property.\"\\n        }\\n      },\\n      \"content_filter_results\": {\\n        \"hate\": {\\n          \"filtered\": false,\\n          \"severity\": \"safe\"\\n        },\\n        \"protected_material_code\": {\\n          \"filtered\": false,\\n          \"detected\": false\\n        },\\n        \"protected_material_text\": {\\n          \"filtered\": false,\\n          \"detected\": false\\n        },\\n        \"self_harm\": {\\n          \"filtered\": false,\\n          \"severity\": \"safe\"\\n        },\\n        \"sexual\": {\\n          \"filtered\": false,\\n          \"severity\": \"safe\"\\n        },\\n        \"violence\": {\\n          \"filtered\": false,\\n          \"severity\": \"safe\"\\n        }\\n      }\\n    }\\n  ],\\n  \"created\": 1734097416,\\n  \"model\": \"gpt-4o-2024-08-06\",\\n  \"object\": \"chat.completion\",\\n  \"service_tier\": null,\\n  \"system_fingerprint\": \"fp_04751d0b65\",\\n  \"usage\": {\\n    \"completion_tokens\": 254,\\n    \"prompt_tokens\": 2138,\\n    \"total_tokens\": 2392,\\n    \"completion_tokens_details\": null,\\n    \"prompt_tokens_details\": null\\n  },\\n  \"prompt_filter_results\": [\\n    {\\n      \"prompt_index\": 0,\\n      \"content_filter_results\": {\\n        \"hate\": {\\n          \"filtered\": false,\\n          \"severity\": \"safe\"\\n        },\\n        \"jailbreak\": {\\n          \"filtered\": false,\\n          \"detected\": false\\n        },\\n        \"self_harm\": {\\n          \"filtered\": false,\\n          \"severity\": \"safe\"\\n        },\\n        \"sexual\": {\\n          \"filtered\": false,\\n          \"severity\": \"safe\"\\n        },\\n        \"violence\": {\\n          \"filtered\": false,\\n          \"severity\": \"safe\"\\n        }\\n      }\\n    }\\n  ]\\n}'"
      ]
     },
     "execution_count": 66,
     "metadata": {},
     "output_type": "execute_result"
    }
   ],
   "source": [
    "finaljsonstr\n"
   ]
  },
  {
   "cell_type": "code",
   "execution_count": 70,
   "metadata": {},
   "outputs": [],
   "source": [
    "result = json.loads(json.loads(finaljsonstr)['choices'][0]['message']['content'])"
   ]
  },
  {
   "cell_type": "code",
   "execution_count": 71,
   "metadata": {},
   "outputs": [
    {
     "data": {
      "text/plain": [
       "{'introduction': 'These terms and conditions govern the house loans provided by Contoso Bank to customers. By applying for and accepting a house loan, the Borrower agrees to the terms and conditions outlined herein.',\n",
       " 'loan_amount_and_purpose': \"The loan is granted exclusively for purchasing a residential property, refinancing an existing mortgage, or for approved home improvement projects. The maximum loan amount is determined by the Bank based on the Borrower's financial profile, creditworthiness, and property value.\",\n",
       " 'interest_rates': 'There are two types: Fixed Rate, which remains constant throughout the loan term; and Variable Rate, which may fluctuate based on market conditions and is tied to a publicly available index. Interest rates are disclosed at the time of loan approval and may change based on prevailing conditions until the loan agreement is signed.',\n",
       " 'loan_tenure': \"Loan terms range from 5 to 30 years, depending on the loan product and Borrower's preference. Early repayment is allowed but may incur prepayment penalties depending on the loan terms.\",\n",
       " 'late_payments': 'A late fee of 1.5% of the overdue amount is charged if the monthly repayment is not received by the due date. Consistently late or missed payments can lead the Bank to initiate legal action, possibly foreclosing on the property.'}"
      ]
     },
     "execution_count": 71,
     "metadata": {},
     "output_type": "execute_result"
    }
   ],
   "source": [
    "result"
   ]
  },
  {
   "cell_type": "markdown",
   "metadata": {},
   "source": [
    "### Code"
   ]
  },
  {
   "cell_type": "code",
   "execution_count": 73,
   "metadata": {},
   "outputs": [],
   "source": [
    "from azure.cosmos import CosmosClient, exceptions, PartitionKey\n",
    "from dotenv import load_dotenv\n",
    "import os\n",
    "\n",
    "# Load environment variables from .env file\n",
    "load_dotenv()\n",
    "\n",
    "# Cosmos DB connection details from environment variables\n",
    "endpoint = os.getenv(\"COSMOS_ENDPOINT\")\n",
    "key = os.getenv(\"COSMOS_KEY\")\n",
    "\n",
    "def upload_text_to_cosmos_db(text_content, container_name):\n",
    "    # Check if the text is empty\n",
    "    if not text_content:\n",
    "        print(\"The text content is empty. No data to upload.\")\n",
    "        return\n",
    "    \n",
    "    # Initialize the Cosmos client\n",
    "    client = CosmosClient(endpoint, key)\n",
    "    \n",
    "    try:\n",
    "        # Create or get the database\n",
    "        database = client.create_database_if_not_exists(id=\"ContosoDB\")\n",
    "        \n",
    "        # Create or get the container\n",
    "        container = database.create_container_if_not_exists(\n",
    "            id=container_name,\n",
    "            partition_key=PartitionKey(path=f\"/id\"),\n",
    "            offer_throughput=400\n",
    "        )\n",
    "    except exceptions.CosmosHttpResponseError as e:\n",
    "        print(f\"An error occurred while creating the database or container: {e.message}\")\n",
    "        return\n",
    "    \n",
    "    # Create a document with the text content and partition key\n",
    "    document = {\n",
    "        'id': \"houseloan_1\",  # Generate a unique ID for the document\n",
    "        'content': text_content,  # Store the plain text as 'content'\n",
    "    }\n",
    "    \n",
    "    # Upload the document to the container\n",
    "    try:\n",
    "        container.create_item(body=document)\n",
    "        print(f\"Text content uploaded successfully with ID '{document['id']}' in Cosmos DB.\")\n",
    "    except exceptions.CosmosHttpResponseError as e:\n",
    "        print(f\"An error occurred while uploading the document: {e.message}\")"
   ]
  },
  {
   "cell_type": "markdown",
   "metadata": {},
   "source": [
    "### Upload houseloan"
   ]
  },
  {
   "cell_type": "code",
   "execution_count": 74,
   "metadata": {},
   "outputs": [
    {
     "name": "stdout",
     "output_type": "stream",
     "text": [
      "Text content uploaded successfully with ID 'houseloan_1' in Cosmos DB.\n"
     ]
    }
   ],
   "source": [
    "upload_text_to_cosmos_db(result, \"houseloan\")"
   ]
  }
 ],
 "metadata": {
  "kernelspec": {
   "display_name": "Python 3",
   "language": "python",
   "name": "python3"
  },
  "language_info": {
   "codemirror_mode": {
    "name": "ipython",
    "version": 3
   },
   "file_extension": ".py",
   "mimetype": "text/x-python",
   "name": "python",
   "nbconvert_exporter": "python",
   "pygments_lexer": "ipython3",
   "version": "3.11.11"
  }
 },
 "nbformat": 4,
 "nbformat_minor": 2
}
